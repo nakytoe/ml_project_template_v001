{
 "cells": [
  {
   "cell_type": "code",
   "execution_count": null,
   "metadata": {},
   "outputs": [],
   "source": [
    "#| default_exp api\n",
    "%load_ext lab_black\n",
    "# nb_black if running in jupyter\n",
    "%load_ext autoreload\n",
    "# automatically reload (local) python modules if they are updated\n",
    "%autoreload 2"
   ]
  },
  {
   "cell_type": "code",
   "execution_count": null,
   "metadata": {},
   "outputs": [],
   "source": [
    "#| hide\n",
    "from nbdev.showdoc import *"
   ]
  },
  {
   "cell_type": "markdown",
   "metadata": {},
   "source": [
    "# API\n",
    "\n",
    "    Define an interface to interact with the trained ML model\n"
   ]
  },
  {
   "cell_type": "markdown",
   "metadata": {},
   "source": [
    "***input:*** optional\n",
    "\n",
    "***output:*** API for utilizing trained ML model\n",
    "\n",
    "***description:***\n",
    "\n",
    "Define your API in a notebook to get it included in the documentation without copy-pasting stuff around.\n",
    "\n",
    "Remember that you can utilize the `#export` tag to export cell commands to `[your_module]/api.py`."
   ]
  },
  {
   "cell_type": "markdown",
   "metadata": {},
   "source": [
    "## Import relevant modules"
   ]
  },
  {
   "cell_type": "code",
   "execution_count": null,
   "metadata": {},
   "outputs": [],
   "source": [
    "#| export\n",
    "\n",
    "# your code here"
   ]
  },
  {
   "cell_type": "markdown",
   "metadata": {},
   "source": [
    "## Define API\n",
    "\n",
    "By running `nbdev_build_lib` your API script is exported to `[your_module]/api.py` - you can run the API with `python [your_module]/api.py`.\n",
    "\n"
   ]
  },
  {
   "cell_type": "code",
   "execution_count": null,
   "metadata": {},
   "outputs": [],
   "source": [
    "#| export\n",
    "\n",
    "# your code here"
   ]
  }
 ],
 "metadata": {
  "kernelspec": {
   "display_name": "python38myenv",
   "language": "python",
   "name": "python38myenv"
  }
 },
 "nbformat": 4,
 "nbformat_minor": 4
}
